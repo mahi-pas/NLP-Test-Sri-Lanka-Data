{
 "cells": [
  {
   "cell_type": "code",
   "execution_count": 10,
   "metadata": {},
   "outputs": [],
   "source": [
    "#Use subprocess to call the pdftotext program from the xpdf tools. You can find \n",
    "#those tools at https://www.xpdfreader.com/download.html. Get the \"Xpdf command line tools\".\n",
    "\n",
    "import subprocess as sp\n",
    "import pathlib"
   ]
  },
  {
   "cell_type": "code",
   "execution_count": 12,
   "metadata": {},
   "outputs": [
    {
     "name": "stdout",
     "output_type": "stream",
     "text": [
      "\n"
     ]
    }
   ],
   "source": [
    "def pdftotext(path, output_file):\n",
    "    #Generate a text rendering of a PDF file in the form of a list of lines.\n",
    "    args = ['pdftotext', '-layout', path, output_file]\n",
    "    cp = sp.run(\n",
    "      args, stdout=sp.PIPE, stderr=sp.DEVNULL,\n",
    "      check=True, text=True\n",
    "    )\n",
    "    return cp.stdout\n",
    "\n",
    "def main():\n",
    "    input_file = 'Data/Dengue/dengue sri lanka.pdf'\n",
    "    output_name = input_file.split('/')[-1]\n",
    "    pathlib.Path('PDFAsText').mkdir(parents=True, exist_ok=True) \n",
    "    print(pdftotext(input_file, f'PDFAsText/{output_name}.txt'))\n",
    "\n",
    "main()"
   ]
  },
  {
   "cell_type": "code",
   "execution_count": null,
   "metadata": {},
   "outputs": [],
   "source": [
    "# convert raw table as text output into a CSV format\n"
   ]
  }
 ],
 "metadata": {
  "kernelspec": {
   "display_name": "pytorch3d",
   "language": "python",
   "name": "python3"
  },
  "language_info": {
   "codemirror_mode": {
    "name": "ipython",
    "version": 3
   },
   "file_extension": ".py",
   "mimetype": "text/x-python",
   "name": "python",
   "nbconvert_exporter": "python",
   "pygments_lexer": "ipython3",
   "version": "3.9.16"
  }
 },
 "nbformat": 4,
 "nbformat_minor": 2
}
