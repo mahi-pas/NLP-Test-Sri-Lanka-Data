{
 "cells": [
  {
   "cell_type": "code",
   "execution_count": 20,
   "metadata": {},
   "outputs": [
    {
     "name": "stdout",
     "output_type": "stream",
     "text": [
      "\n"
     ]
    }
   ],
   "source": [
    "#Use subprocess to call the pdftotext program from the xpdf tools. You can find \n",
    "#those tools at https://www.xpdfreader.com/download.html. Get the \"Xpdf command line tools\".\n",
    "\n",
    "import subprocess as sp\n",
    "import pathlib\n",
    "\n",
    "def pdftotext(path, output_file):\n",
    "    #Generate a text rendering of a PDF file in the form of a list of lines.\n",
    "    args = ['pdftotext', '-layout', path, output_file]\n",
    "    cp = sp.run(\n",
    "      args, stdout=sp.PIPE, stderr=sp.DEVNULL,\n",
    "      check=True, text=True\n",
    "    )\n",
    "    return cp.stdout\n",
    "\n",
    "def main():\n",
    "    input_file = 'Data/Dengue/sri lanka.pdf'\n",
    "    output_name = input_file.split('/')[-1]\n",
    "    pathlib.Path('PDFAsText').mkdir(parents=True, exist_ok=True) \n",
    "    print(pdftotext(input_file, f'PDFAsText/{output_name}.txt'))\n",
    "\n",
    "main()"
   ]
  },
  {
   "cell_type": "code",
   "execution_count": 10,
   "metadata": {},
   "outputs": [],
   "source": [
    "# rotate PDF\n",
    "\n",
    "from os import listdir\n",
    "from PyPDF2 import PdfReader, PdfWriter\n",
    "\n",
    "input_dir  = \"Data/Dengue/\"\n",
    "output_dir = \"Data/Dengue/\"\n",
    "\n",
    "def rotate_PDFs(input_dir, output_dir, amount=270):\n",
    "    for fname in listdir(input_dir):\n",
    "        if not fname.endswith(\".pdf\"):  # ignore non-pdf files\n",
    "            continue\n",
    "        rotate_PDF(input_dir + fname, output_dir + fname, amount)\n",
    "\n",
    "def rotate_PDF(input_file, output_file, amount=270):\n",
    "    reader = PdfReader(input_file)\n",
    "    writer = PdfWriter()\n",
    "    for page in reader.pages:\n",
    "        page.rotate(amount) # clockwise 270d\n",
    "        writer.add_page(page)\n",
    "    with open(output_file, \"wb\") as pdf_out:\n",
    "        writer.write(pdf_out)\n",
    "\n",
    "def separate_PDF_page(input_file, output_file, selection):\n",
    "    reader = PdfReader(input_file)\n",
    "    writer = PdfWriter()\n",
    "    counter = 0\n",
    "    for page in reader.pages:\n",
    "        counter += 1\n",
    "        if counter in selection:\n",
    "            writer.add_page(page)\n",
    "    with open(output_file, \"wb\") as pdf_out:\n",
    "        writer.write(pdf_out)\n",
    "\n",
    "separate_PDF_page(input_dir + 'sri lanka.pdf', output_dir + 'sri lanka page 3.pdf', [3])"
   ]
  },
  {
   "cell_type": "code",
   "execution_count": 18,
   "metadata": {},
   "outputs": [
    {
     "name": "stdout",
     "output_type": "stream",
     "text": [
      "regions raw: [{'extraction_method': 'stream', 'top': 56.56, 'left': 14.14, 'width': 410.05999755859375, 'height': 367.6400146484375, 'right': 424.2, 'bottom': 424.2, 'data': [[{'top': 67.68, 'left': 39.84, 'width': 356.41998291015625, 'height': 5.639999866485596, 'text': 'Table 1:  SeAle ctedB  notifiabAl e dBi seasAe s reBp orteAd  byB M edicaAl  OfBf icers oAf  HeBa lth'}, {'top': 0.0, 'left': 0.0, 'width': 0.0, 'height': 0.0, 'text': ''}, {'top': 66.66, 'left': 404.59, 'width': 17.11001205444336, 'height': 6.659996509552002, 'text': '27Ath'}], [{'top': 84.21, 'left': 39.84, 'width': 250.3099822998047, 'height': 5.690001010894775, 'text': 'Colombo 546 7321 0 5 0 9 0 1'}, {'top': 84.21, 'left': 307.61, 'width': 95.70000457763672, 'height': 4.369999885559082, 'text': '0 6 15 149'}, {'top': 0.0, 'left': 0.0, 'width': 0.0, 'height': 0.0, 'text': ''}], [{'top': 101.37, 'left': 39.84, 'width': 250.3099822998047, 'height': 5.689993381500244, 'text': 'Gampaha 345 7146 0 7 0 10 0 1'}, {'top': 101.37, 'left': 307.61, 'width': 95.70000457763672, 'height': 4.369999885559082, 'text': '0 2 3 269'}, {'top': 0.0, 'left': 0.0, 'width': 0.0, 'height': 0.0, 'text': ''}], [{'top': 118.41, 'left': 39.84, 'width': 250.3099822998047, 'height': 5.689993381500244, 'text': 'Kalutara 239 2413 0 14 0 1 0 0'}, {'top': 118.41, 'left': 307.61, 'width': 95.70000457763672, 'height': 4.369999885559082, 'text': '0 5 26 384'}, {'top': 0.0, 'left': 0.0, 'width': 0.0, 'height': 0.0, 'text': ''}], [{'top': 135.45, 'left': 39.84, 'width': 250.3099822998047, 'height': 5.690001010894775, 'text': 'Kandy 237 2331 0 18 0 0 1 4'}, {'top': 135.45, 'left': 307.61, 'width': 95.70000457763672, 'height': 4.369999885559082, 'text': '0 12 7 124'}, {'top': 0.0, 'left': 0.0, 'width': 0.0, 'height': 0.0, 'text': ''}], [{'top': 152.61, 'left': 39.84, 'width': 250.3099822998047, 'height': 5.690001010894775, 'text': 'Matale 44 680 0 2 0 0 0 1'}, {'top': 152.61, 'left': 307.61, 'width': 93.30001068115234, 'height': 4.369999885559082, 'text': '0 5 10 82'}, {'top': 0.0, 'left': 0.0, 'width': 0.0, 'height': 0.0, 'text': ''}], [{'top': 169.65, 'left': 39.84, 'width': 250.3099822998047, 'height': 5.690001010894775, 'text': 'NuwaraEliya 13 104 7 68 0 1 1 1'}, {'top': 169.65, 'left': 307.61, 'width': 93.30001068115234, 'height': 4.369999885559082, 'text': '0 38 3 50'}, {'top': 0.0, 'left': 0.0, 'width': 0.0, 'height': 0.0, 'text': ''}], [{'top': 186.72, 'left': 39.84, 'width': 250.3099822998047, 'height': 5.690001010894775, 'text': 'Galle 92 1091 1 22 1 11 0 5'}, {'top': 186.72, 'left': 307.61, 'width': 95.70000457763672, 'height': 4.369999885559082, 'text': '3 18 19 478'}, {'top': 0.0, 'left': 0.0, 'width': 0.0, 'height': 0.0, 'text': ''}], [{'top': 203.88, 'left': 39.84, 'width': 250.3099822998047, 'height': 5.690001010894775, 'text': 'Hambantota 41 731 0 4 0 1 0 1'}, {'top': 203.88, 'left': 307.61, 'width': 95.70000457763672, 'height': 4.369999885559082, 'text': '0 8 12 160'}, {'top': 0.0, 'left': 0.0, 'width': 0.0, 'height': 0.0, 'text': ''}], [{'top': 220.92, 'left': 39.84, 'width': 250.3099822998047, 'height': 5.690001010894775, 'text': 'Matara 65 828 2 17 0 5 0 0'}, {'top': 220.92, 'left': 307.61, 'width': 95.70000457763672, 'height': 4.369999885559082, 'text': '1 7 30 297'}, {'top': 0.0, 'left': 0.0, 'width': 0.0, 'height': 0.0, 'text': ''}], [{'top': 238.08, 'left': 39.84, 'width': 250.3099822998047, 'height': 5.690001010894775, 'text': 'Jaffna 44 1472 2 43 0 1 0 8'}, {'top': 238.08, 'left': 307.61, 'width': 90.78002166748047, 'height': 4.369999885559082, 'text': '1 16 0 8'}, {'top': 0.0, 'left': 0.0, 'width': 0.0, 'height': 0.0, 'text': ''}], [{'top': 255.12, 'left': 39.84, 'width': 250.3099822998047, 'height': 5.690001010894775, 'text': 'Kilinochchi 2 62 0 4 0 0 0 0'}, {'top': 255.12, 'left': 307.61, 'width': 90.78002166748047, 'height': 4.369999885559082, 'text': '0 16 0 7'}, {'top': 0.0, 'left': 0.0, 'width': 0.0, 'height': 0.0, 'text': ''}], [{'top': 272.16, 'left': 39.84, 'width': 250.3099822998047, 'height': 5.690001010894775, 'text': 'Mannar 1 62 1 6 0 0 0 1'}, {'top': 272.16, 'left': 307.61, 'width': 93.30001068115234, 'height': 4.369999885559082, 'text': '0 0 0 24'}, {'top': 0.0, 'left': 0.0, 'width': 0.0, 'height': 0.0, 'text': ''}], [{'top': 289.32, 'left': 39.84, 'width': 250.3099822998047, 'height': 5.690001010894775, 'text': 'Vavuniya 3 102 0 5 0 1 0 0'}, {'top': 289.32, 'left': 307.61, 'width': 93.30001068115234, 'height': 4.369999885559082, 'text': '0 0 2 25'}, {'top': 0.0, 'left': 0.0, 'width': 0.0, 'height': 0.0, 'text': ''}], [{'top': 306.34, 'left': 39.84, 'width': 250.3099822998047, 'height': 5.73000955581665, 'text': 'Mullaitivu 11 65 0 8 0 0 0 3'}, {'top': 306.34, 'left': 307.61, 'width': 93.30001068115234, 'height': 4.389999866485596, 'text': '0 11 0 26'}, {'top': 0.0, 'left': 0.0, 'width': 0.0, 'height': 0.0, 'text': ''}], [{'top': 323.42, 'left': 39.84, 'width': 250.3099822998047, 'height': 5.690001010894775, 'text': 'Batticaloa 79 1574 7 124 0 6 0 3'}, {'top': 323.42, 'left': 307.61, 'width': 93.30001068115234, 'height': 4.369999885559082, 'text': '1 12 9 56'}, {'top': 0.0, 'left': 0.0, 'width': 0.0, 'height': 0.0, 'text': ''}], [{'top': 340.58, 'left': 39.84, 'width': 250.3099822998047, 'height': 5.690001010894775, 'text': 'Ampara 0 42 0 1 0 1 0 0'}, {'top': 340.58, 'left': 307.61, 'width': 93.30001068115234, 'height': 4.369999885559082, 'text': '0 0 0 12'}, {'top': 0.0, 'left': 0.0, 'width': 0.0, 'height': 0.0, 'text': ''}], [{'top': 357.62, 'left': 39.84, 'width': 250.3099822998047, 'height': 5.690001010894775, 'text': 'Trincomalee 82 1620 0 5 0 1 0 0'}, {'top': 357.62, 'left': 307.61, 'width': 93.30001068115234, 'height': 4.369999885559082, 'text': '0 4 6 49'}, {'top': 0.0, 'left': 0.0, 'width': 0.0, 'height': 0.0, 'text': ''}], [{'top': 374.78, 'left': 39.84, 'width': 250.3099822998047, 'height': 5.690001010894775, 'text': 'Kurunegala 82 1511 4 19 1 7 0 0'}, {'top': 374.78, 'left': 307.61, 'width': 95.70000457763672, 'height': 4.369999885559082, 'text': '1 2 17 177'}, {'top': 0.0, 'left': 0.0, 'width': 0.0, 'height': 0.0, 'text': ''}], [{'top': 391.82, 'left': 39.84, 'width': 250.3099822998047, 'height': 5.690001010894775, 'text': 'Puttalam 46 2429 1 7 0 1 0 1'}, {'top': 391.82, 'left': 307.61, 'width': 93.30001068115234, 'height': 4.369999885559082, 'text': '0 0 2 24'}, {'top': 0.0, 'left': 0.0, 'width': 0.0, 'height': 0.0, 'text': ''}], [{'top': 408.86, 'left': 39.84, 'width': 250.3099822998047, 'height': 5.690001010894775, 'text': 'Anuradhapur 47 354 0 3 0 0 0 1'}, {'top': 408.86, 'left': 307.61, 'width': 95.70000457763672, 'height': 4.369999885559082, 'text': '0 1 3 182'}, {'top': 0.0, 'left': 0.0, 'width': 0.0, 'height': 0.0, 'text': ''}]]}]\n",
      "df head:   Table 1:  SeAle ctedB  notifiabAl e dBi seasAe s reBp orteAd  byB M edicaAl  OfBf icers oAf  HeBa lth  \\\n",
      "0                       Colombo 546 7321 0 5 0 9 0 1                                                      \n",
      "1                      Gampaha 345 7146 0 7 0 10 0 1                                                      \n",
      "2                     Kalutara 239 2413 0 14 0 1 0 0                                                      \n",
      "3                        Kandy 237 2331 0 18 0 0 1 4                                                      \n",
      "4                          Matale 44 680 0 2 0 0 0 1                                                      \n",
      "\n",
      "   Unnamed: 1  27Ath  \n",
      "0  0 6 15 149    NaN  \n",
      "1   0 2 3 269    NaN  \n",
      "2  0 5 26 384    NaN  \n",
      "3  0 12 7 124    NaN  \n",
      "4   0 5 10 82    NaN  \n",
      "None\n"
     ]
    }
   ],
   "source": [
    "import tabula as tb\n",
    "\n",
    "def pdftotext2(path, output_file):\n",
    "    box = [2, 0.5, 15, 15] # top, left, width, height expressed in cm\n",
    "    fc = 28.28 # conversion factor for pdf\n",
    "            \n",
    "    for i in range(0, len(box)):\n",
    "        box[i] *= fc\n",
    "\n",
    "    pages=3\n",
    "\n",
    "    regions_raw = tb.read_pdf(path, pages=pages,area=[box], multiple_tables=True, output_format=\"json\")\n",
    "    regions = []\n",
    "    print(f'regions raw: {regions_raw}')\n",
    "\n",
    "    #\n",
    "    #for i in range(0,len(regions_raw)):\n",
    "    #    regions.append(regions_raw[i]['data'][0][0]['text'])\n",
    "    #regions\n",
    "        \n",
    "    tl = tb.read_pdf(path, pages=pages,area=[box],output_format=\"dataframe\", stream=True)\n",
    "    df = tl[0]\n",
    "    print(f'df head: {df.head()}')\n",
    "\n",
    "def main():\n",
    "    input_file = 'Data/Dengue/sri lanka.pdf'\n",
    "    output_name = input_file.split('/')[-1]\n",
    "    pathlib.Path('PDFAsText').mkdir(parents=True, exist_ok=True) \n",
    "    print(pdftotext2(input_file, f'PDFAsText/{output_name}.txt'))\n",
    "\n",
    "main()"
   ]
  },
  {
   "cell_type": "code",
   "execution_count": null,
   "metadata": {},
   "outputs": [],
   "source": [
    "# convert raw table as text output into a CSV format\n"
   ]
  }
 ],
 "metadata": {
  "kernelspec": {
   "display_name": "pytorch3d",
   "language": "python",
   "name": "python3"
  },
  "language_info": {
   "codemirror_mode": {
    "name": "ipython",
    "version": 3
   },
   "file_extension": ".py",
   "mimetype": "text/x-python",
   "name": "python",
   "nbconvert_exporter": "python",
   "pygments_lexer": "ipython3",
   "version": "3.9.16"
  }
 },
 "nbformat": 4,
 "nbformat_minor": 2
}
